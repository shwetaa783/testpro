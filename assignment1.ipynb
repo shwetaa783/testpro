{
 "cells": [
  {
   "cell_type": "code",
   "execution_count": 1,
   "id": "98c34875-b7d2-41ba-a33c-f09b46cc0c76",
   "metadata": {},
   "outputs": [],
   "source": [
    "#convert on integer to a floating-point no"
   ]
  },
  {
   "cell_type": "code",
   "execution_count": 2,
   "id": "e801ce30-6537-46c3-afb8-850ffdd7b694",
   "metadata": {},
   "outputs": [],
   "source": [
    "a=10"
   ]
  },
  {
   "cell_type": "code",
   "execution_count": 3,
   "id": "9bc9d37c-12f7-4da0-ab65-e14e9d78abb1",
   "metadata": {},
   "outputs": [
    {
     "data": {
      "text/plain": [
       "int"
      ]
     },
     "execution_count": 3,
     "metadata": {},
     "output_type": "execute_result"
    }
   ],
   "source": [
    "type(a)"
   ]
  },
  {
   "cell_type": "code",
   "execution_count": 6,
   "id": "c6c039bd-bc83-4fe5-b456-a1e72db7fb86",
   "metadata": {},
   "outputs": [
    {
     "data": {
      "text/plain": [
       "10.0"
      ]
     },
     "execution_count": 6,
     "metadata": {},
     "output_type": "execute_result"
    }
   ],
   "source": [
    "float(a)"
   ]
  },
  {
   "cell_type": "code",
   "execution_count": 7,
   "id": "2186ea52-7e92-4d61-8c78-73ed581c51a9",
   "metadata": {},
   "outputs": [],
   "source": [
    "#convert a float to an integer"
   ]
  },
  {
   "cell_type": "code",
   "execution_count": 14,
   "id": "04f0de65-f26f-4b1b-8691-938c3c483019",
   "metadata": {},
   "outputs": [],
   "source": [
    "a=10.0"
   ]
  },
  {
   "cell_type": "code",
   "execution_count": 12,
   "id": "4dd9aa0b-6768-48cc-9c45-5d8d9f090ed6",
   "metadata": {},
   "outputs": [
    {
     "data": {
      "text/plain": [
       "float"
      ]
     },
     "execution_count": 12,
     "metadata": {},
     "output_type": "execute_result"
    }
   ],
   "source": [
    "type(a)"
   ]
  },
  {
   "cell_type": "code",
   "execution_count": 16,
   "id": "60e8d661-dfe1-4399-bf0d-8b52c99de3ae",
   "metadata": {},
   "outputs": [
    {
     "data": {
      "text/plain": [
       "10"
      ]
     },
     "execution_count": 16,
     "metadata": {},
     "output_type": "execute_result"
    }
   ],
   "source": [
    "int(a)"
   ]
  },
  {
   "cell_type": "code",
   "execution_count": 17,
   "id": "ffc6ac93-d97b-45cd-9908-2931c8a85ed2",
   "metadata": {},
   "outputs": [],
   "source": [
    "#convert an integer to a string"
   ]
  },
  {
   "cell_type": "code",
   "execution_count": 18,
   "id": "c2042fb9-23f7-4bba-b3f3-eebbb5c7f209",
   "metadata": {},
   "outputs": [],
   "source": [
    "a=10"
   ]
  },
  {
   "cell_type": "code",
   "execution_count": 19,
   "id": "95a80be8-565e-43d4-9806-77ffe5dffe5f",
   "metadata": {},
   "outputs": [
    {
     "data": {
      "text/plain": [
       "int"
      ]
     },
     "execution_count": 19,
     "metadata": {},
     "output_type": "execute_result"
    }
   ],
   "source": [
    "type(a)"
   ]
  },
  {
   "cell_type": "code",
   "execution_count": 20,
   "id": "dfd4f5c6-dcad-4057-9056-952fb8cb0740",
   "metadata": {},
   "outputs": [],
   "source": [
    "a='10'"
   ]
  },
  {
   "cell_type": "code",
   "execution_count": 21,
   "id": "c2754452-ab5b-426c-9d1d-e2fec850f35f",
   "metadata": {},
   "outputs": [
    {
     "data": {
      "text/plain": [
       "str"
      ]
     },
     "execution_count": 21,
     "metadata": {},
     "output_type": "execute_result"
    }
   ],
   "source": [
    "type(a)"
   ]
  },
  {
   "cell_type": "code",
   "execution_count": 23,
   "id": "7ab4a508-a020-43df-8816-16620a371a55",
   "metadata": {},
   "outputs": [],
   "source": [
    "#convert a list to a tuple"
   ]
  },
  {
   "cell_type": "code",
   "execution_count": 26,
   "id": "5fcef692-062a-41c4-9c8f-6911b3818f2b",
   "metadata": {},
   "outputs": [],
   "source": [
    "a=[1,2,'shweta',1+2j]"
   ]
  },
  {
   "cell_type": "code",
   "execution_count": 25,
   "id": "79af6156-2218-4e21-8f8a-bd9bdc364cce",
   "metadata": {},
   "outputs": [
    {
     "data": {
      "text/plain": [
       "list"
      ]
     },
     "execution_count": 25,
     "metadata": {},
     "output_type": "execute_result"
    }
   ],
   "source": [
    "type(a)"
   ]
  },
  {
   "cell_type": "code",
   "execution_count": 27,
   "id": "9a692ec1-b277-4682-a164-39f93b893740",
   "metadata": {},
   "outputs": [],
   "source": [
    "a=(1,2,'shweta',1+2j)"
   ]
  },
  {
   "cell_type": "code",
   "execution_count": 28,
   "id": "13bfa70c-ab1c-4533-95c3-9fdb68649234",
   "metadata": {},
   "outputs": [
    {
     "data": {
      "text/plain": [
       "tuple"
      ]
     },
     "execution_count": 28,
     "metadata": {},
     "output_type": "execute_result"
    }
   ],
   "source": [
    "type(a)"
   ]
  },
  {
   "cell_type": "code",
   "execution_count": 29,
   "id": "2e51bb35-cae4-4717-a9a6-e99ccff6511d",
   "metadata": {},
   "outputs": [],
   "source": [
    "#convert a tuple to a list"
   ]
  },
  {
   "cell_type": "code",
   "execution_count": 30,
   "id": "8e266596-8e29-489d-a478-51aa1da28316",
   "metadata": {},
   "outputs": [],
   "source": [
    "a=(1,2,'shweta',1+2j)"
   ]
  },
  {
   "cell_type": "code",
   "execution_count": 31,
   "id": "0921e43d-5c46-4230-ad32-e8bb063f26df",
   "metadata": {},
   "outputs": [
    {
     "data": {
      "text/plain": [
       "tuple"
      ]
     },
     "execution_count": 31,
     "metadata": {},
     "output_type": "execute_result"
    }
   ],
   "source": [
    "type(a)"
   ]
  },
  {
   "cell_type": "code",
   "execution_count": 32,
   "id": "936ea208-91c8-462a-85af-c91aa1a230e7",
   "metadata": {},
   "outputs": [],
   "source": [
    "a=[1,2,'shweta',1+2j]"
   ]
  },
  {
   "cell_type": "code",
   "execution_count": 33,
   "id": "44a6da4b-43d9-48b4-a1c6-6b5a97d1b915",
   "metadata": {},
   "outputs": [
    {
     "data": {
      "text/plain": [
       "list"
      ]
     },
     "execution_count": 33,
     "metadata": {},
     "output_type": "execute_result"
    }
   ],
   "source": [
    "type(a)"
   ]
  },
  {
   "cell_type": "code",
   "execution_count": 2,
   "id": "17060f13-0ad4-4921-a382-adebe98f157c",
   "metadata": {},
   "outputs": [],
   "source": [
    "#convert a non zero no to boolean\n",
    "    \n",
    "\n",
    "\n"
   ]
  },
  {
   "cell_type": "code",
   "execution_count": 5,
   "id": "9139f545-7190-499f-a5ac-dca1a5b099cf",
   "metadata": {},
   "outputs": [
    {
     "data": {
      "text/plain": [
       "True"
      ]
     },
     "execution_count": 5,
     "metadata": {},
     "output_type": "execute_result"
    }
   ],
   "source": [
    "bool(1)"
   ]
  },
  {
   "cell_type": "code",
   "execution_count": 7,
   "id": "b1b9e36b-1a3b-47b4-9547-1012c84f3367",
   "metadata": {},
   "outputs": [
    {
     "data": {
      "text/plain": [
       "True"
      ]
     },
     "execution_count": 7,
     "metadata": {},
     "output_type": "execute_result"
    }
   ],
   "source": [
    "bool(121)"
   ]
  },
  {
   "cell_type": "code",
   "execution_count": 8,
   "id": "9a135ed1-69d8-4938-b4c5-09dd662e7ed8",
   "metadata": {},
   "outputs": [
    {
     "data": {
      "text/plain": [
       "False"
      ]
     },
     "execution_count": 8,
     "metadata": {},
     "output_type": "execute_result"
    }
   ],
   "source": [
    "bool(0)"
   ]
  },
  {
   "cell_type": "code",
   "execution_count": null,
   "id": "0f886c0c-80a5-4480-9fa6-59765e468440",
   "metadata": {},
   "outputs": [],
   "source": []
  }
 ],
 "metadata": {
  "kernelspec": {
   "display_name": "Python 3 (ipykernel)",
   "language": "python",
   "name": "python3"
  },
  "language_info": {
   "codemirror_mode": {
    "name": "ipython",
    "version": 3
   },
   "file_extension": ".py",
   "mimetype": "text/x-python",
   "name": "python",
   "nbconvert_exporter": "python",
   "pygments_lexer": "ipython3",
   "version": "3.10.8"
  }
 },
 "nbformat": 4,
 "nbformat_minor": 5
}
